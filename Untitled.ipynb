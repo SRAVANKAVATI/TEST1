{
 "cells": [
  {
   "cell_type": "code",
   "execution_count": null,
   "id": "b22714b9",
   "metadata": {},
   "outputs": [],
   "source": [
    "1.def searchMatrix(matrix, target):\n",
    "    if not matrix or not matrix[0]:\n",
    "        return False\n",
    "    \n",
    "    rows, cols = len(matrix), len(matrix[0])\n",
    "    left, right = 0, rows * cols - 1\n",
    "    \n",
    "    while left <= right:\n",
    "        mid = (left + right) // 2\n",
    "        mid_value = matrix[mid // cols][mid % cols]\n",
    "        \n",
    "        if mid_value == target:\n",
    "            return True\n",
    "        elif mid_value < target:\n",
    "            left = mid + 1\n",
    "        else:\n",
    "            right = mid - 1\n",
    "    \n",
    "    return False\n",
    "\n",
    "# Example usage\n",
    "matrix = [[1,3,5,7],[10,11,16,20],[23,30,34,60]]\n",
    "target = 3\n",
    "result = searchMatrix(matrix, target)\n",
    "print(result)  # Output: True\n"
   ]
  },
  {
   "cell_type": "code",
   "execution_count": null,
   "id": "b3af748d",
   "metadata": {},
   "outputs": [],
   "source": [
    "from collections import Counter\n",
    "\n",
    "def highest_frequency_word_length(s):\n",
    "    words = s.split()\n",
    "    word_count = Counter(words)\n",
    "    \n",
    "    max_frequency = max(word_count.values())\n",
    "    most_frequent_words = [word for word, count in word_count.items() if count == max_frequency]\n",
    "    \n",
    "    if most_frequent_words:\n",
    "        highest_frequency_word = most_frequent_words[0]\n",
    "        return len(highest_frequency_word)\n",
    "    else:\n",
    "        return 0\n",
    "\n",
    "# Example \n",
    "input_string = \"write write write all the number from from from 1 to 100\"\n",
    "output = highest_frequency_word_length(input_string)\n",
    "print(output)  \n",
    "\n",
    "\n",
    "2.input_string_2 = \"programming is fun coding is coding\"\n",
    "output_2 = highest_frequency_word_length(input_string_2)\n",
    "print(output_2)  "
   ]
  },
  {
   "cell_type": "code",
   "execution_count": null,
   "id": "e26c2fdc",
   "metadata": {},
   "outputs": [],
   "source": []
  },
  {
   "cell_type": "code",
   "execution_count": null,
   "id": "8b38a9c3",
   "metadata": {},
   "outputs": [],
   "source": []
  },
  {
   "cell_type": "code",
   "execution_count": null,
   "id": "029887be",
   "metadata": {},
   "outputs": [],
   "source": []
  },
  {
   "cell_type": "code",
   "execution_count": null,
   "id": "c03f35cd",
   "metadata": {},
   "outputs": [],
   "source": []
  },
  {
   "cell_type": "code",
   "execution_count": null,
   "id": "28669abc",
   "metadata": {},
   "outputs": [],
   "source": []
  },
  {
   "cell_type": "code",
   "execution_count": null,
   "id": "a9a6b6e9",
   "metadata": {},
   "outputs": [],
   "source": []
  },
  {
   "cell_type": "code",
   "execution_count": null,
   "id": "31fd8dc9",
   "metadata": {},
   "outputs": [],
   "source": []
  }
 ],
 "metadata": {
  "kernelspec": {
   "display_name": "Python 3 (ipykernel)",
   "language": "python",
   "name": "python3"
  },
  "language_info": {
   "codemirror_mode": {
    "name": "ipython",
    "version": 3
   },
   "file_extension": ".py",
   "mimetype": "text/x-python",
   "name": "python",
   "nbconvert_exporter": "python",
   "pygments_lexer": "ipython3",
   "version": "3.11.3"
  }
 },
 "nbformat": 4,
 "nbformat_minor": 5
}
